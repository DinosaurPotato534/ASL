{
 "cells": [
  {
   "cell_type": "code",
   "execution_count": 1,
   "id": "0b71c7fd-3627-4e7b-8e38-a196b92b1b16",
   "metadata": {},
   "outputs": [
    {
     "name": "stderr",
     "output_type": "stream",
     "text": [
      "/opt/anaconda3/lib/python3.8/site-packages/pandas/core/computation/expressions.py:20: UserWarning: Pandas requires version '2.7.3' or newer of 'numexpr' (version '2.7.1' currently installed).\n",
      "  from pandas.core.computation.check import NUMEXPR_INSTALLED\n"
     ]
    }
   ],
   "source": [
    "import tensorflow as tf\n",
    "import tensorflow_hub as hub\n",
    "import os\n",
    "from tensorflow.keras.callbacks import ModelCheckpoint\n",
    "import numpy as np\n",
    "from tensorflow.keras.preprocessing import image"
   ]
  },
  {
   "cell_type": "code",
   "execution_count": 2,
   "id": "be707a32-a2fa-48fd-bb95-842baa01dc7f",
   "metadata": {},
   "outputs": [],
   "source": [
    "data_dir_training = \"/Users/aaryangulia/Downloads/archive-2/Train_Alphabet\"\n",
    "data_dir_testing = \"/Users/aaryangulia/Downloads/archive-2/Test_Alphabet\""
   ]
  },
  {
   "cell_type": "code",
   "execution_count": 3,
   "id": "00941b0d-9bc9-4ae6-b6d1-01e7c0218c04",
   "metadata": {},
   "outputs": [],
   "source": [
    "# Define the number of classes\n",
    "num_classes = len(os.listdir(data_dir_training)) - 1\n",
    "\n",
    "# Define the image size and batch size\n",
    "img_size = (224, 224)\n",
    "batch_size = 32\n",
    "\n",
    "# Use ImageDataGenerator for data loading and augmentation\n",
    "datagen = tf.keras.preprocessing.image.ImageDataGenerator(\n",
    "    rescale=1./255,  # Rescale pixel values to [0, 1]\n",
    "    validation_split=0.2,  # Split data into training and validation sets\n",
    "    rotation_range=20,  # Randomly rotate images by up to 20 degrees\n",
    "    width_shift_range=0.2,  # Randomly shift images horizontally by up to 20% of the width\n",
    "    height_shift_range=0.2,  # Randomly shift images vertically by up to 20% of the height\n",
    "    shear_range=0.2,  # Shear intensity (shear angle in radians)\n",
    "    zoom_range=0.2,  # Randomly zoom images by up to 20%\n",
    "    horizontal_flip=True,  # Randomly flip images horizontally\n",
    "    fill_mode='nearest'  # Strategy for filling in newly created pixels\n",
    ")"
   ]
  },
  {
   "cell_type": "code",
   "execution_count": 4,
   "id": "a1ffb07c-b39b-440a-a765-afad0a3034ce",
   "metadata": {},
   "outputs": [
    {
     "name": "stdout",
     "output_type": "stream",
     "text": [
      "Found 19440 images belonging to 27 classes.\n",
      "Found 4860 images belonging to 27 classes.\n"
     ]
    }
   ],
   "source": [
    "train_generator = datagen.flow_from_directory(\n",
    "    data_dir_training,\n",
    "    target_size=img_size,\n",
    "    batch_size=batch_size,\n",
    "    class_mode='categorical',  # For multi-class classification\n",
    "    subset='training'  # Specify this as training data\n",
    ")\n",
    "\n",
    "# Create validation data generator\n",
    "validation_generator = datagen.flow_from_directory(\n",
    "    data_dir_training,\n",
    "    target_size=img_size,\n",
    "    batch_size=batch_size,\n",
    "    class_mode='categorical',\n",
    "    subset='validation'  # Specify this as validation data\n",
    ")"
   ]
  },
  {
   "cell_type": "code",
   "execution_count": 41,
   "id": "8ae98747-53f2-41cd-b5e9-c313d6f15915",
   "metadata": {},
   "outputs": [],
   "source": [
    "from tensorflow.keras.layers import Dense, Flatten, Conv2D, MaxPooling2D, Activation, GlobalAveragePooling2D\n",
    "from tensorflow.keras.losses import sparse_categorical_crossentropy\n",
    "from tensorflow.keras.models import Sequential\n",
    "from tensorflow.keras.optimizers import Adam"
   ]
  },
  {
   "cell_type": "code",
   "execution_count": 58,
   "id": "d963ab48-a383-4aed-9775-961efb2f27d7",
   "metadata": {},
   "outputs": [],
   "source": [
    "base_model = tf.keras.models.load_model('epoch_custom_model.h5',custom_objects={'KerasLayer': hub.KerasLayer})\n",
    "\n",
    "for layer in base_model.layers[:-10]:\n",
    "    layer.trainable = False\n",
    "\n",
    "new_output = tf.keras.layers.Dense(27, activation='softmax')\n",
    "\n",
    "# Connect the base model and the new output layer\n",
    "model_output = new_output(base_model.output)\n",
    "\n",
    "new_model = tf.keras.Model(inputs=base_model.input, outputs=model_output)\n",
    "\n",
    "# Compile the model\n",
    "new_model.compile(optimizer=tf.keras.optimizers.Adam(1e-3), \n",
    "                  loss='categorical_crossentropy',\n",
    "                  metrics=['accuracy'])"
   ]
  },
  {
   "cell_type": "code",
   "execution_count": 60,
   "id": "d4494a3f-6492-4dff-841d-e5c2c4a8fa2f",
   "metadata": {},
   "outputs": [
    {
     "name": "stdout",
     "output_type": "stream",
     "text": [
      "\n",
      " Model summary: \n",
      "Model: \"model_13\"\n",
      "_________________________________________________________________\n",
      " Layer (type)                Output Shape              Param #   \n",
      "=================================================================\n",
      " keras_layer_3_input (Input  [(None, 224, 224, 3)]     0         \n",
      " Layer)                                                          \n",
      "                                                                 \n",
      " keras_layer_3 (KerasLayer)  (None, 1001)              3540265   \n",
      "                                                                 \n",
      " dense_2 (Dense)             (None, 29)                29058     \n",
      "                                                                 \n",
      " activation_2 (Activation)   (None, 29)                0         \n",
      "                                                                 \n",
      " dense_19 (Dense)            (None, 27)                810       \n",
      "                                                                 \n",
      "=================================================================\n",
      "Total params: 3570133 (13.62 MB)\n",
      "Trainable params: 29868 (116.67 KB)\n",
      "Non-trainable params: 3540265 (13.51 MB)\n",
      "_________________________________________________________________\n",
      "None\n",
      "\n",
      " Model Training: \n",
      "Epoch 1/5\n",
      "608/608 [==============================] - ETA: 0s - loss: 3.1176 - accuracy: 0.1473\n",
      "Epoch 1: saving model to tranferlearn_custom_model.h5\n"
     ]
    },
    {
     "name": "stderr",
     "output_type": "stream",
     "text": [
      "/opt/anaconda3/lib/python3.8/site-packages/keras/src/engine/training.py:3000: UserWarning: You are saving your model as an HDF5 file via `model.save()`. This file format is considered legacy. We recommend using instead the native Keras format, e.g. `model.save('my_model.keras')`.\n",
      "  saving_api.save_model(\n"
     ]
    },
    {
     "name": "stdout",
     "output_type": "stream",
     "text": [
      "608/608 [==============================] - 693s 1s/step - loss: 3.1176 - accuracy: 0.1473 - val_loss: 2.9587 - val_accuracy: 0.1899\n",
      "Epoch 2/5\n",
      "608/608 [==============================] - ETA: 0s - loss: 2.8111 - accuracy: 0.2274\n",
      "Epoch 2: saving model to tranferlearn_custom_model.h5\n",
      "608/608 [==============================] - 734s 1s/step - loss: 2.8111 - accuracy: 0.2274 - val_loss: 2.6867 - val_accuracy: 0.2434\n",
      "Epoch 3/5\n",
      "608/608 [==============================] - ETA: 0s - loss: 2.5761 - accuracy: 0.2588\n",
      "Epoch 3: saving model to tranferlearn_custom_model.h5\n",
      "608/608 [==============================] - 693s 1s/step - loss: 2.5761 - accuracy: 0.2588 - val_loss: 2.4757 - val_accuracy: 0.2675\n",
      "Epoch 4/5\n",
      "608/608 [==============================] - ETA: 0s - loss: 2.3945 - accuracy: 0.2756\n",
      "Epoch 4: saving model to tranferlearn_custom_model.h5\n",
      "608/608 [==============================] - 718s 1s/step - loss: 2.3945 - accuracy: 0.2756 - val_loss: 2.3287 - val_accuracy: 0.2724\n",
      "Epoch 5/5\n",
      "608/608 [==============================] - ETA: 0s - loss: 2.2693 - accuracy: 0.2843\n",
      "Epoch 5: saving model to tranferlearn_custom_model.h5\n",
      "608/608 [==============================] - 718s 1s/step - loss: 2.2693 - accuracy: 0.2843 - val_loss: 2.2262 - val_accuracy: 0.2819\n"
     ]
    }
   ],
   "source": [
    "checkpoint_callback = ModelCheckpoint(filepath='tranferlearn_custom_model.h5', \n",
    "                                      save_best_only=False, \n",
    "                                      verbose=1)\n",
    "#training model\n",
    "print(\"\\n Model summary: \")\n",
    "print(new_model.summary())\n",
    "print(\"\\n Model Training: \")\n",
    "history = new_model.fit(\n",
    "    train_generator,\n",
    "    epochs=5,  # You can adjust the number of epochs based on your training needs\n",
    "    validation_data=validation_generator,\n",
    "    callbacks=[checkpoint_callback]\n",
    ")"
   ]
  },
  {
   "cell_type": "code",
   "execution_count": null,
   "id": "73248ecb-d70b-42d3-a3fb-d940dd9b4e0c",
   "metadata": {},
   "outputs": [],
   "source": []
  }
 ],
 "metadata": {
  "kernelspec": {
   "display_name": "Python 3",
   "language": "python",
   "name": "python3"
  },
  "language_info": {
   "codemirror_mode": {
    "name": "ipython",
    "version": 3
   },
   "file_extension": ".py",
   "mimetype": "text/x-python",
   "name": "python",
   "nbconvert_exporter": "python",
   "pygments_lexer": "ipython3",
   "version": "3.8.5"
  }
 },
 "nbformat": 4,
 "nbformat_minor": 5
}
