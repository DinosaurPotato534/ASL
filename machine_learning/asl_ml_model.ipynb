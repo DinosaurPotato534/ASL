{
 "cells": [
  {
   "cell_type": "code",
   "execution_count": 5,
   "id": "01fc78b9-a93f-4e3e-aee3-59f6e80c03b0",
   "metadata": {},
   "outputs": [],
   "source": [
    "import matplotlib.pyplot as plt\n",
    "import numpy as np\n",
    "import PIL\n",
    "import tensorflow as tf\n",
    "\n",
    "from tensorflow import keras\n",
    "from tensorflow.keras import layers\n",
    "from tensorflow.keras.models import Sequential\n",
    "import tensorflow_hub as hub\n",
    "\n",
    "import os\n",
    "from tensorflow.keras.callbacks import ModelCheckpoint"
   ]
  },
  {
   "cell_type": "code",
   "execution_count": 6,
   "id": "d7be9e2f-b3a6-4f5e-afa5-4f8e387bafac",
   "metadata": {},
   "outputs": [],
   "source": [
    "data_dir_training = \"/Users/aaryangulia/Downloads/archive/asl_alphabet_train/asl_alphabet_train\""
   ]
  },
  {
   "cell_type": "code",
   "execution_count": 7,
   "id": "92aa3c57-ddef-4dc4-b080-ce1039aebca2",
   "metadata": {},
   "outputs": [],
   "source": [
    "# Define the number of classes\n",
    "num_classes = len(os.listdir(data_dir_training)) - 1\n",
    "\n",
    "# Define the image size and batch size\n",
    "img_size = (224, 224)\n",
    "batch_size = 32\n",
    "\n",
    "# Use ImageDataGenerator for data loading and augmentation\n",
    "datagen = tf.keras.preprocessing.image.ImageDataGenerator(\n",
    "    rescale=1./255,  # Rescale pixel values to [0, 1]\n",
    "    validation_split=0.2,  # Split data into training and validation sets\n",
    "    rotation_range=20,  # Randomly rotate images by up to 20 degrees\n",
    "    width_shift_range=0.2,  # Randomly shift images horizontally by up to 20% of the width\n",
    "    height_shift_range=0.2,  # Randomly shift images vertically by up to 20% of the height\n",
    "    shear_range=0.2,  # Shear intensity (shear angle in radians)\n",
    "    zoom_range=0.2,  # Randomly zoom images by up to 20%\n",
    "    horizontal_flip=True,  # Randomly flip images horizontally\n",
    "    fill_mode='nearest'  # Strategy for filling in newly created pixels\n",
    ")"
   ]
  },
  {
   "cell_type": "code",
   "execution_count": 10,
   "id": "a7edd863-7d02-443c-a473-12bdad0cbed7",
   "metadata": {},
   "outputs": [],
   "source": [
    "from tensorflow.keras.layers import Dense, Flatten, Conv2D, MaxPooling2D, Activation, Dropout\n",
    "from tensorflow.keras.losses import sparse_categorical_crossentropy\n",
    "from tensorflow.keras.optimizers import Adam"
   ]
  },
  {
   "cell_type": "code",
   "execution_count": 11,
   "id": "d5d93150-b7ac-47ba-a18d-6b24f1b023d0",
   "metadata": {},
   "outputs": [
    {
     "name": "stdout",
     "output_type": "stream",
     "text": [
      "Found 69600 images belonging to 29 classes.\n",
      "Found 17400 images belonging to 29 classes.\n"
     ]
    }
   ],
   "source": [
    "train_generator = datagen.flow_from_directory(\n",
    "    data_dir_training,\n",
    "    target_size=img_size,\n",
    "    batch_size=batch_size,\n",
    "    class_mode='categorical',  # For multi-class classification\n",
    "    subset='training'  # Specify this as training data\n",
    ")\n",
    "\n",
    "# Create validation data generator\n",
    "validation_generator = datagen.flow_from_directory(\n",
    "    data_dir_training,\n",
    "    target_size=img_size,\n",
    "    batch_size=batch_size,\n",
    "    class_mode='categorical',\n",
    "    subset='validation'  # Specify this as validation data\n",
    ")"
   ]
  },
  {
   "cell_type": "code",
   "execution_count": 16,
   "id": "017f06c1-a185-493f-ac57-bdd0219ee8d1",
   "metadata": {},
   "outputs": [],
   "source": [
    "# getting pretrained model for transfer learning and defining model\n",
    "base_model = tf.keras.applications.MobileNetV2(weights='imagenet', include_top=False, input_shape=(224, 224, 3))\n",
    "\n",
    "url = \"https://tfhub.dev/google/tf2-preview/mobilenet_v2/classification/4\"\n",
    "download_model = hub.KerasLayer(url,input_shape=(224,224,3))\n",
    "model = Sequential([\n",
    "     download_model,\n",
    "     Dense(29),\n",
    "     Activation(\"softmax\")\n",
    "])\n",
    "# compiling model\n",
    "model.compile(optimizer=Adam(1e-3),\n",
    "loss=\"categorical_crossentropy\",\n",
    "metrics=['accuracy'])"
   ]
  },
  {
   "cell_type": "code",
   "execution_count": 18,
   "id": "a6aa0897-317c-484f-b08e-733dda7291f9",
   "metadata": {},
   "outputs": [
    {
     "name": "stdout",
     "output_type": "stream",
     "text": [
      "\n",
      " Model summary: \n",
      "Model: \"sequential_2\"\n",
      "_________________________________________________________________\n",
      " Layer (type)                Output Shape              Param #   \n",
      "=================================================================\n",
      " keras_layer_3 (KerasLayer)  (None, 1001)              3540265   \n",
      "                                                                 \n",
      " dense_2 (Dense)             (None, 29)                29058     \n",
      "                                                                 \n",
      " activation_2 (Activation)   (None, 29)                0         \n",
      "                                                                 \n",
      "=================================================================\n",
      "Total params: 3569323 (13.62 MB)\n",
      "Trainable params: 29058 (113.51 KB)\n",
      "Non-trainable params: 3540265 (13.51 MB)\n",
      "_________________________________________________________________\n",
      "None\n",
      "\n",
      " Model Training: \n",
      "Epoch 1/5\n",
      "2175/2175 [==============================] - ETA: 0s - loss: 0.4263 - accuracy: 0.8680\n",
      "Epoch 1: saving model to epoch_custom_model.h5\n",
      "2175/2175 [==============================] - 1774s 815ms/step - loss: 0.4263 - accuracy: 0.8680 - val_loss: 0.9464 - val_accuracy: 0.7322\n",
      "Epoch 2/5\n"
     ]
    },
    {
     "name": "stderr",
     "output_type": "stream",
     "text": [
      "/opt/anaconda3/lib/python3.8/site-packages/keras/src/engine/training.py:3000: UserWarning: You are saving your model as an HDF5 file via `model.save()`. This file format is considered legacy. We recommend using instead the native Keras format, e.g. `model.save('my_model.keras')`.\n",
      "  saving_api.save_model(\n"
     ]
    },
    {
     "name": "stdout",
     "output_type": "stream",
     "text": [
      "2175/2175 [==============================] - ETA: 0s - loss: 0.3085 - accuracy: 0.9015\n",
      "Epoch 2: saving model to epoch_custom_model.h5\n",
      "2175/2175 [==============================] - 1749s 804ms/step - loss: 0.3085 - accuracy: 0.9015 - val_loss: 0.8883 - val_accuracy: 0.7543\n",
      "Epoch 3/5\n",
      "2175/2175 [==============================] - ETA: 0s - loss: 0.2714 - accuracy: 0.9143\n",
      "Epoch 3: saving model to epoch_custom_model.h5\n",
      "2175/2175 [==============================] - 1612s 741ms/step - loss: 0.2714 - accuracy: 0.9143 - val_loss: 0.9468 - val_accuracy: 0.7482\n",
      "Epoch 4/5\n",
      "2175/2175 [==============================] - ETA: 0s - loss: 0.2617 - accuracy: 0.9174\n",
      "Epoch 4: saving model to epoch_custom_model.h5\n",
      "2175/2175 [==============================] - 1642s 755ms/step - loss: 0.2617 - accuracy: 0.9174 - val_loss: 0.9188 - val_accuracy: 0.7604\n",
      "Epoch 5/5\n",
      "2175/2175 [==============================] - ETA: 0s - loss: 0.2546 - accuracy: 0.9202\n",
      "Epoch 5: saving model to epoch_custom_model.h5\n",
      "2175/2175 [==============================] - 1696s 780ms/step - loss: 0.2546 - accuracy: 0.9202 - val_loss: 0.9306 - val_accuracy: 0.7702\n"
     ]
    }
   ],
   "source": [
    "checkpoint_callback = ModelCheckpoint(filepath='epoch_custom_model.h5', \n",
    "                                      save_best_only=False, \n",
    "                                      verbose=1)\n",
    "#training model\n",
    "print(\"\\n Model summary: \")\n",
    "print(model.summary())\n",
    "print(\"\\n Model Training: \")\n",
    "history = model.fit(\n",
    "    train_generator,\n",
    "    epochs=5,  # You can adjust the number of epochs based on your training needs\n",
    "    validation_data=validation_generator,\n",
    "    callbacks=[checkpoint_callback]\n",
    ")"
   ]
  },
  {
   "cell_type": "code",
   "execution_count": null,
   "id": "963b33f1-7584-4be8-81ff-d54ce8dfff3a",
   "metadata": {},
   "outputs": [],
   "source": [
    "# evaluating model\n",
    "print(\"\\n Model Evaluation: \")\n",
    "model.evaluate(validation_generator)"
   ]
  },
  {
   "cell_type": "code",
   "execution_count": 96,
   "id": "d592788b-148d-48b6-8f09-289a1ed7e0a6",
   "metadata": {},
   "outputs": [],
   "source": [
    "from keras.preprocessing import image\n",
    "\n",
    "#load the model we saved\n",
    "test_image = image.load_img('/Users/aaryangulia/Downloads/archive-2/Test_Alphabet/A/1e5fcac0-0494-4fcb-9dcc-a7c17403abe9.rgb_0000.png', target_size=(224, 224,3))\n"
   ]
  },
  {
   "cell_type": "code",
   "execution_count": 98,
   "id": "5c58901c-acfa-4605-9a06-aea62121cccf",
   "metadata": {},
   "outputs": [],
   "source": [
    "img_array = tf.keras.utils.img_to_array(test_image)/255.0\n",
    "img_array = tf.expand_dims(img_array, 0)"
   ]
  },
  {
   "cell_type": "code",
   "execution_count": 99,
   "id": "4e1846f5-4e58-4a90-aecf-bf019e941ecd",
   "metadata": {},
   "outputs": [
    {
     "name": "stdout",
     "output_type": "stream",
     "text": [
      "1/1 [==============================] - 0s 49ms/step\n",
      "This image most likely belongs to A with a 8.82 percent confidence.\n"
     ]
    }
   ],
   "source": [
    "predictions = model.predict(img_array)\n",
    "score = tf.nn.softmax(predictions[0])\n",
    "\n",
    "print(\n",
    "    \"This image most likely belongs to {} with a {:.2f} percent confidence.\"\n",
    "    .format(class_names[np.argmax(score)], 100 * np.max(score))\n",
    ")"
   ]
  },
  {
   "cell_type": "code",
   "execution_count": 2,
   "id": "f7fd3918-a6bf-4eb6-b948-04df5ef1fc77",
   "metadata": {},
   "outputs": [
    {
     "name": "stdout",
     "output_type": "stream",
     "text": [
      "WARNING:tensorflow:Please fix your imports. Module tensorflow.python.training.tracking.data_structures has been moved to tensorflow.python.trackable.data_structures. The old module will be deleted in version 2.11.\n",
      "INFO:tensorflow:Assets written to: models/saved_model/assets\n"
     ]
    },
    {
     "name": "stderr",
     "output_type": "stream",
     "text": [
      "INFO:tensorflow:Assets written to: models/saved_model/assets\n"
     ]
    }
   ],
   "source": [
    "# Load the existing model\n",
    "model = tf.keras.models.load_model(\"models/english_model.h5\", custom_objects={'KerasLayer': hub.KerasLayer})\n",
    "\n",
    "# Register the KerasLayer\n",
    "tf.keras.utils.get_custom_objects()['KerasLayer'] = hub.KerasLayer\n",
    "\n",
    "# Save the model to the TensorFlow.js format\n",
    "tf.saved_model.save(model, \"models/saved_model\")"
   ]
  },
  {
   "cell_type": "code",
   "execution_count": null,
   "id": "80ba880f-cdee-4097-9a8b-ad5bbcd33631",
   "metadata": {},
   "outputs": [],
   "source": []
  }
 ],
 "metadata": {
  "kernelspec": {
   "display_name": "Python 3",
   "language": "python",
   "name": "python3"
  },
  "language_info": {
   "codemirror_mode": {
    "name": "ipython",
    "version": 3
   },
   "file_extension": ".py",
   "mimetype": "text/x-python",
   "name": "python",
   "nbconvert_exporter": "python",
   "pygments_lexer": "ipython3",
   "version": "3.8.5"
  }
 },
 "nbformat": 4,
 "nbformat_minor": 5
}
